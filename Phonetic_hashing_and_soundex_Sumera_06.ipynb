{
  "nbformat": 4,
  "nbformat_minor": 0,
  "metadata": {
    "colab": {
      "name": "Phonetic hashing and soundex_Sumera_06.ipynb",
      "provenance": [],
      "collapsed_sections": [],
      "authorship_tag": "ABX9TyP0PlkCJv6klu/p2YJdCOWH",
      "include_colab_link": true
    },
    "kernelspec": {
      "name": "python3",
      "display_name": "Python 3"
    },
    "language_info": {
      "name": "python"
    }
  },
  "cells": [
    {
      "cell_type": "markdown",
      "metadata": {
        "id": "view-in-github",
        "colab_type": "text"
      },
      "source": [
        "<a href=\"https://colab.research.google.com/github/SumeraHangi/NLP-/blob/main/Phonetic_hashing_and_soundex_Sumera_06.ipynb\" target=\"_parent\"><img src=\"https://colab.research.google.com/assets/colab-badge.svg\" alt=\"Open In Colab\"/></a>"
      ]
    },
    {
      "cell_type": "code",
      "metadata": {
        "id": "6shxBPGFPM6R"
      },
      "source": [
        "import numpy as np\n",
        "import pandas as pd\n",
        "\n",
        "#Visualization Libraries\n",
        "import seaborn as sns\n",
        "import matplotlib.pyplot as plt\n",
        "\n",
        "#To plot the graph embedded in the notebook\n",
        "%matplotlib inline\n"
      ],
      "execution_count": null,
      "outputs": []
    },
    {
      "cell_type": "code",
      "metadata": {
        "id": "w5eX3BkpPQg1"
      },
      "source": [
        "#imports from sklearn library\n",
        "from sklearn import datasets\n",
        "from sklearn.linear_model import LinearRegression\n",
        "from sklearn.model_selection import train_test_split, cross_val_score\n",
        "from sklearn.metrics import mean_squared_error"
      ],
      "execution_count": null,
      "outputs": []
    },
    {
      "cell_type": "code",
      "metadata": {
        "id": "TsTTARTWPS28"
      },
      "source": [
        "#loading the dataset direclty from sklearn\n",
        "boston = datasets.load_boston()\n"
      ],
      "execution_count": null,
      "outputs": []
    },
    {
      "cell_type": "code",
      "metadata": {
        "id": "_ADeOdLMPU_M"
      },
      "source": [
        "print(type(boston))\n",
        "print('\\n')\n",
        "print(boston.keys())\n",
        "print('\\n')\n",
        "print(boston.data.shape)\n",
        "print('\\n')\n",
        "print(boston.feature_names)"
      ],
      "execution_count": null,
      "outputs": []
    },
    {
      "cell_type": "code",
      "metadata": {
        "id": "gaL9QB3zPXoE"
      },
      "source": [
        "print(boston.DESCR)\n"
      ],
      "execution_count": null,
      "outputs": []
    },
    {
      "cell_type": "code",
      "metadata": {
        "id": "S4mj0dgiPaVj"
      },
      "source": [
        "bos = pd.DataFrame(boston.data, columns = boston.feature_names)\n",
        "bos['PRICE'] = boston.target\n",
        "\n",
        "print(bos.head())\n"
      ],
      "execution_count": null,
      "outputs": []
    },
    {
      "cell_type": "code",
      "metadata": {
        "id": "_BzT1qKPPckM"
      },
      "source": [
        "bos.isnull().sum()\n"
      ],
      "execution_count": null,
      "outputs": []
    },
    {
      "cell_type": "code",
      "metadata": {
        "id": "15UCmXsEPex1"
      },
      "source": [
        "print(bos.describe())\n"
      ],
      "execution_count": null,
      "outputs": []
    },
    {
      "cell_type": "code",
      "metadata": {
        "id": "MlIk2QGgPh5d"
      },
      "source": [
        "sns.set(rc={'figure.figsize':(11.7,8.27)})\n",
        "plt.hist(bos['PRICE'], bins=30)\n",
        "plt.xlabel(\"House prices in $1000\")\n",
        "plt.show()\n"
      ],
      "execution_count": null,
      "outputs": []
    },
    {
      "cell_type": "code",
      "metadata": {
        "id": "baAbyDngPkMM"
      },
      "source": [
        "#Created a dataframe without the price col, since we need to see the correlation between the variables\n",
        "bos_1 = pd.DataFrame(boston.data, columns = boston.feature_names)\n",
        "\n",
        "correlation_matrix = bos_1.corr().round(2)\n",
        "sns.heatmap(data=correlation_matrix, annot=True)\n"
      ],
      "execution_count": null,
      "outputs": []
    },
    {
      "cell_type": "code",
      "metadata": {
        "id": "O8Tcjz-WPnkM"
      },
      "source": [
        "plt.figure(figsize=(20, 5))\n",
        "\n",
        "features = ['LSTAT', 'RM']\n",
        "target = bos['PRICE']\n",
        "\n",
        "for i, col in enumerate(features):\n",
        "    plt.subplot(1, len(features) , i+1)\n",
        "    x = bos[col]\n",
        "    y = target\n",
        "    plt.scatter(x, y, marker='o')\n",
        "    plt.title(\"Variation in House prices\")\n",
        "    plt.xlabel(col)\n",
        "    plt.ylabel('\"House prices in $1000\"')\n"
      ],
      "execution_count": null,
      "outputs": []
    },
    {
      "cell_type": "code",
      "metadata": {
        "id": "ZvVB8g9DPqQD"
      },
      "source": [
        "X_rooms = bos.RM\n",
        "y_price = bos.PRICE\n",
        "\n",
        "\n",
        "X_rooms = np.array(X_rooms).reshape(-1,1)\n",
        "y_price = np.array(y_price).reshape(-1,1)\n",
        "\n",
        "print(X_rooms.shape)\n",
        "print(y_price.shape)"
      ],
      "execution_count": null,
      "outputs": []
    },
    {
      "cell_type": "code",
      "metadata": {
        "id": "iJ6cYIe7PsdE"
      },
      "source": [
        "X_train_1, X_test_1, Y_train_1, Y_test_1 = train_test_split(X_rooms, y_price, test_size = 0.2, random_state=5)\n",
        "\n",
        "print(X_train_1.shape)\n",
        "print(X_test_1.shape)\n",
        "print(Y_train_1.shape)\n",
        "print(Y_test_1.shape)\n"
      ],
      "execution_count": null,
      "outputs": []
    },
    {
      "cell_type": "code",
      "metadata": {
        "id": "Fb4xjp5DPxMV"
      },
      "source": [
        "reg_1 = LinearRegression()\n",
        "reg_1.fit(X_train_1, Y_train_1)\n",
        "\n",
        "y_train_predict_1 = reg_1.predict(X_train_1)\n",
        "rmse = (np.sqrt(mean_squared_error(Y_train_1, y_train_predict_1)))\n",
        "r2 = round(reg_1.score(X_train_1, Y_train_1),2)\n",
        "\n",
        "print(\"The model performance for training set\")\n",
        "print(\"--------------------------------------\")\n",
        "print('RMSE is {}'.format(rmse))\n",
        "print('R2 score is {}'.format(r2))\n",
        "print(\"\\n\")\n"
      ],
      "execution_count": null,
      "outputs": []
    },
    {
      "cell_type": "code",
      "metadata": {
        "id": "wr2DEGpHP1pE"
      },
      "source": [
        "# model evaluation for test set\n",
        "\n",
        "y_pred_1 = reg_1.predict(X_test_1)\n",
        "rmse = (np.sqrt(mean_squared_error(Y_test_1, y_pred_1)))\n",
        "r2 = round(reg_1.score(X_test_1, Y_test_1),2)\n",
        "\n",
        "print(\"The model performance for training set\")\n",
        "print(\"--------------------------------------\")\n",
        "print(\"Root Mean Squared Error: {}\".format(rmse))\n",
        "print(\"R^2: {}\".format(r2))\n",
        "print(\"\\n\")"
      ],
      "execution_count": null,
      "outputs": []
    },
    {
      "cell_type": "code",
      "metadata": {
        "id": "u-UTkAaiP4n9"
      },
      "source": [
        "prediction_space = np.linspace(min(X_rooms), max(X_rooms)).reshape(-1,1) \n",
        "plt.scatter(X_rooms,y_price)\n",
        "plt.plot(prediction_space, reg_1.predict(prediction_space), color = 'black', linewidth = 3)\n",
        "plt.ylabel('value of house/1000($)')\n",
        "plt.xlabel('number of rooms')\n",
        "plt.show()\n"
      ],
      "execution_count": null,
      "outputs": []
    },
    {
      "cell_type": "code",
      "metadata": {
        "id": "4k8QSVoZP63t"
      },
      "source": [
        "X = bos.drop('PRICE', axis = 1)\n",
        "y = bos['PRICE']\n",
        "\n",
        "X_train, X_test, y_train, y_test = train_test_split(X,y,test_size=0.2, random_state=42)\n",
        "\n",
        "reg_all = LinearRegression()\n",
        "reg_all.fit(X_train, y_train)\n",
        "\n",
        "# model evaluation for training set\n",
        "\n",
        "y_train_predict = reg_all.predict(X_train)\n",
        "rmse = (np.sqrt(mean_squared_error(y_train, y_train_predict)))\n",
        "r2 = round(reg_all.score(X_train, y_train),2)\n",
        "\n",
        "print(\"The model performance for training set\")\n",
        "print(\"--------------------------------------\")\n",
        "print('RMSE is {}'.format(rmse))\n",
        "print('R2 score is {}'.format(r2))\n",
        "print(\"\\n\")\n"
      ],
      "execution_count": null,
      "outputs": []
    },
    {
      "cell_type": "code",
      "metadata": {
        "id": "BynLMOsAP9DV"
      },
      "source": [
        "# model evaluation for test set\n",
        "\n",
        "y_pred = reg_all.predict(X_test)\n",
        "rmse = (np.sqrt(mean_squared_error(y_test, y_pred)))\n",
        "r2 = round(reg_all.score(X_test, y_test),2)\n",
        "\n",
        "print(\"The model performance for training set\")\n",
        "print(\"--------------------------------------\")\n",
        "print(\"Root Mean Squared Error: {}\".format(rmse))\n",
        "print(\"R^2: {}\".format(r2))\n",
        "print(\"\\n\")\n"
      ],
      "execution_count": null,
      "outputs": []
    },
    {
      "cell_type": "code",
      "metadata": {
        "id": "VwE8gzajP_jc"
      },
      "source": [
        "plt.scatter(y_test, y_pred)\n",
        "plt.xlabel(\"Actual House Prices ($1000)\")\n",
        "plt.ylabel(\"Predicted House Prices: ($1000)\")\n",
        "plt.xticks(range(0, int(max(y_test)),2))\n",
        "plt.yticks(range(0, int(max(y_test)),2))\n",
        "plt.title(\"Actual Prices vs Predicted prices\")\n"
      ],
      "execution_count": null,
      "outputs": []
    }
  ]
}